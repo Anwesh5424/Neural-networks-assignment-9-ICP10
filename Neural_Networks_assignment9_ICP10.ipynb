{
  "nbformat": 4,
  "nbformat_minor": 0,
  "metadata": {
    "colab": {
      "provenance": []
    },
    "kernelspec": {
      "name": "python3",
      "display_name": "Python 3"
    },
    "language_info": {
      "name": "python"
    }
  },
  "cells": [
    {
      "cell_type": "code",
      "execution_count": 18,
      "metadata": {
        "id": "kqLn_zl-FWc3"
      },
      "outputs": [],
      "source": [
        "\n",
        "import pandas as pd #Basic packages for creating dataframes and loading dataset\n",
        "import numpy as np\n",
        "\n",
        "import matplotlib.pyplot as plt #Package for visualization\n",
        "\n",
        "import re #importing package for Regular expression operations\n",
        "\n",
        "from sklearn.model_selection import train_test_split #Package for splitting the data\n",
        "\n",
        "from sklearn.preprocessing import LabelEncoder #Package for conversion of categorical to Numerical\n",
        "\n",
        "from keras.preprocessing.text import Tokenizer #Tokenization\n",
        "from tensorflow.keras.preprocessing.sequence import pad_sequences #Add zeros or crop based on the length\n",
        "from keras.models import Sequential #Sequential Neural Network\n",
        "from keras.layers import Dense, Embedding, LSTM, SpatialDropout1D #For layers in Neural Network"
      ]
    },
    {
      "cell_type": "code",
      "source": [
        "from google.colab import drive\n",
        "drive.mount('/content/gdrive')"
      ],
      "metadata": {
        "colab": {
          "base_uri": "https://localhost:8080/"
        },
        "id": "9Va1V_rhF_I0",
        "outputId": "910064ca-e48f-44b0-9167-120fd3e3d5cc"
      },
      "execution_count": 19,
      "outputs": [
        {
          "output_type": "stream",
          "name": "stdout",
          "text": [
            "Drive already mounted at /content/gdrive; to attempt to forcibly remount, call drive.mount(\"/content/gdrive\", force_remount=True).\n"
          ]
        }
      ]
    },
    {
      "cell_type": "code",
      "source": [
        "import pandas as pd\n",
        "\n",
        "# Load the dataset as a Pandas DataFrame\n",
        "dataset = pd.read_csv(\"/content/Sentiment.csv\", header=0)\n",
        "\n",
        "# Select only the necessary columns 'text' and 'sentiment'\n",
        "mask = dataset.columns.isin(['text', 'sentiment'])\n",
        "data = dataset.loc[:, mask]\n",
        "\n",
        "# Keeping only the necessary columns\n",
        "\n",
        "data['text'] = data['text'].apply(lambda x: x.lower())\n",
        "data['text'] = data['text'].apply((lambda x: re.sub('[^a-zA-z0-9\\s]', '', x)))"
      ],
      "metadata": {
        "colab": {
          "base_uri": "https://localhost:8080/"
        },
        "id": "bLq7aFWrGme3",
        "outputId": "edbc4599-7ff7-4850-d98f-b6b34ae9b83e"
      },
      "execution_count": 21,
      "outputs": [
        {
          "output_type": "stream",
          "name": "stderr",
          "text": [
            "<ipython-input-21-f239a47fb009>:12: SettingWithCopyWarning: \n",
            "A value is trying to be set on a copy of a slice from a DataFrame.\n",
            "Try using .loc[row_indexer,col_indexer] = value instead\n",
            "\n",
            "See the caveats in the documentation: https://pandas.pydata.org/pandas-docs/stable/user_guide/indexing.html#returning-a-view-versus-a-copy\n",
            "  data['text'] = data['text'].apply(lambda x: x.lower())\n",
            "<ipython-input-21-f239a47fb009>:13: SettingWithCopyWarning: \n",
            "A value is trying to be set on a copy of a slice from a DataFrame.\n",
            "Try using .loc[row_indexer,col_indexer] = value instead\n",
            "\n",
            "See the caveats in the documentation: https://pandas.pydata.org/pandas-docs/stable/user_guide/indexing.html#returning-a-view-versus-a-copy\n",
            "  data['text'] = data['text'].apply((lambda x: re.sub('[^a-zA-z0-9\\s]', '', x)))\n"
          ]
        }
      ]
    },
    {
      "cell_type": "code",
      "source": [],
      "metadata": {
        "id": "N9_K8LS8HHeP"
      },
      "execution_count": 21,
      "outputs": []
    },
    {
      "cell_type": "code",
      "source": [
        "for idx, row in data.iterrows():\n",
        "    row[0] = row[0].replace('rt', ' ')"
      ],
      "metadata": {
        "id": "7En02g1sHjIy"
      },
      "execution_count": 9,
      "outputs": []
    },
    {
      "cell_type": "code",
      "source": [
        "\n",
        "max_fatures = 2000\n",
        "tokenizer = Tokenizer(num_words=max_fatures, split=' ') #Maximum words is 2000 to tokenize sentence\n",
        "tokenizer.fit_on_texts(data['text'].values)\n",
        "X = tokenizer.texts_to_sequences(data['text'].values) #taking values to feature matrix"
      ],
      "metadata": {
        "id": "HBKt9V0NHp6a"
      },
      "execution_count": 22,
      "outputs": []
    },
    {
      "cell_type": "code",
      "source": [
        "X = pad_sequences(X) #Padding the feature matrix\n",
        "\n",
        "embed_dim = 128 #Dimension of the Embedded layer\n",
        "lstm_out = 196 #Long short-term memory (LSTM) layer neurons"
      ],
      "metadata": {
        "id": "JxkxuCMYHuML"
      },
      "execution_count": 23,
      "outputs": []
    },
    {
      "cell_type": "code",
      "source": [
        "\n",
        "def createmodel():\n",
        "    model = Sequential() #Sequential Neural Network\n",
        "    model.add(Embedding(max_fatures, embed_dim,input_length = X.shape[1])) #input dimension 2000 Neurons, output dimension 128 Neurons\n",
        "    model.add(LSTM(lstm_out, dropout=0.2, recurrent_dropout=0.2)) #Drop out 20%, 196 output Neurons, recurrent dropout 20%\n",
        "    model.add(Dense(3,activation='softmax')) #3 output neurons[positive, Neutral, Negative], softmax as activation\n",
        "    model.compile(loss = 'categorical_crossentropy', optimizer='adam',metrics = ['accuracy']) #Compiling the model\n",
        "    return model\n",
        "#print(model.summary())"
      ],
      "metadata": {
        "id": "NhIYVHsKHvY8"
      },
      "execution_count": 24,
      "outputs": []
    },
    {
      "cell_type": "code",
      "source": [
        "from keras.utils import to_categorical\n",
        "\n",
        "labelencoder = LabelEncoder() #Applying label Encoding on the label matrix\n",
        "integer_encoded = labelencoder.fit_transform(data['sentiment']) #fitting the model\n",
        "y = to_categorical(integer_encoded)\n",
        "X_train, X_test, Y_train, Y_test = train_test_split(X,y, test_size = 0.33, random_state = 42) #67% training data, 33% test data split\n",
        ""
      ],
      "metadata": {
        "id": "wajX-R29H1rW"
      },
      "execution_count": 25,
      "outputs": []
    },
    {
      "cell_type": "code",
      "source": [
        "batch_size = 32 #Batch size 32\n",
        "model = createmodel() #Function call to Sequential Neural Network\n",
        "model.fit(X_train, Y_train, epochs = 1, batch_size=batch_size, verbose = 2) #verbose the higher, the more messages\n",
        "score,acc = model.evaluate(X_test,Y_test,verbose=2,batch_size=batch_size) #evaluating the model\n",
        "print(score)\n",
        "print(acc)"
      ],
      "metadata": {
        "colab": {
          "base_uri": "https://localhost:8080/"
        },
        "id": "AWyAT9xqH5lc",
        "outputId": "42bb2696-0d1d-4ced-b170-f4e488067fa7"
      },
      "execution_count": 26,
      "outputs": [
        {
          "output_type": "stream",
          "name": "stdout",
          "text": [
            "291/291 - 46s - loss: 0.8207 - accuracy: 0.6464 - 46s/epoch - 157ms/step\n",
            "144/144 - 3s - loss: 0.7607 - accuracy: 0.6717 - 3s/epoch - 20ms/step\n",
            "0.7606533765792847\n",
            "0.6716907024383545\n"
          ]
        }
      ]
    },
    {
      "cell_type": "code",
      "source": [
        "print(model.metrics_names) #metrics of the model"
      ],
      "metadata": {
        "colab": {
          "base_uri": "https://localhost:8080/"
        },
        "id": "VAJ6I-8vIU1Y",
        "outputId": "8562a367-696d-4188-9f46-4f4c5cb85559"
      },
      "execution_count": 27,
      "outputs": [
        {
          "output_type": "stream",
          "name": "stdout",
          "text": [
            "['loss', 'accuracy']\n"
          ]
        }
      ]
    },
    {
      "cell_type": "markdown",
      "source": [
        "1. Save the model and use the saved model to predict on new text data (ex, “A lot of good things are happening. We are respected again throughout the world, and that's a great thing.@realDonaldTrump”)"
      ],
      "metadata": {
        "id": "mkq_RCa4IdH4"
      }
    },
    {
      "cell_type": "code",
      "source": [
        "model.save('sentimentAnalysis.h5') #Saving the model"
      ],
      "metadata": {
        "id": "AR2xAXt8IgpV"
      },
      "execution_count": 28,
      "outputs": []
    },
    {
      "cell_type": "code",
      "source": [
        "from keras.models import load_model #Importing the package for importing the saved model\n",
        "model= load_model('sentimentAnalysis.h5') #loading the saved model"
      ],
      "metadata": {
        "id": "yNl8VzWMIkG2"
      },
      "execution_count": 29,
      "outputs": []
    },
    {
      "cell_type": "code",
      "source": [
        "print(integer_encoded)\n",
        "print(data['sentiment'])"
      ],
      "metadata": {
        "colab": {
          "base_uri": "https://localhost:8080/"
        },
        "id": "JGHMCB6dIxaQ",
        "outputId": "394509d0-e278-41d6-8b4f-54eb087a344d"
      },
      "execution_count": 30,
      "outputs": [
        {
          "output_type": "stream",
          "name": "stdout",
          "text": [
            "[1 2 1 ... 2 0 2]\n",
            "0         Neutral\n",
            "1        Positive\n",
            "2         Neutral\n",
            "3        Positive\n",
            "4        Positive\n",
            "           ...   \n",
            "13866    Negative\n",
            "13867    Positive\n",
            "13868    Positive\n",
            "13869    Negative\n",
            "13870    Positive\n",
            "Name: sentiment, Length: 13871, dtype: object\n"
          ]
        }
      ]
    },
    {
      "cell_type": "code",
      "source": [
        "# Predicting on the text data\n",
        "sentence = ['A lot of good things are happening. We are respected again throughout the world, and that is a great thing.@realDonaldTrump']\n",
        "sentence = tokenizer.texts_to_sequences(sentence) # Tokenizing the sentence\n",
        "sentence = pad_sequences(sentence, maxlen=28, dtype='int32', value=0) # Padding the sentence\n",
        "sentiment_probs = model.predict(sentence, batch_size=1, verbose=2)[0] # Predicting the sentence text\n",
        "sentiment = np.argmax(sentiment_probs)\n",
        "\n",
        "print(sentiment_probs)\n",
        "if sentiment == 0:\n",
        "    print(\"Neutral\")\n",
        "elif sentiment < 0:\n",
        "    print(\"Negative\")\n",
        "elif sentiment > 0:\n",
        "    print(\"Positive\")\n",
        "else:\n",
        "    print(\"Cannot be determined\")"
      ],
      "metadata": {
        "colab": {
          "base_uri": "https://localhost:8080/"
        },
        "id": "hFsA0Y-YI34u",
        "outputId": "fca4b2dc-55ef-4bda-8e2e-ade6f5733ebe"
      },
      "execution_count": 31,
      "outputs": [
        {
          "output_type": "stream",
          "name": "stdout",
          "text": [
            "1/1 - 0s - 257ms/epoch - 257ms/step\n",
            "[0.7745469  0.1018661  0.12358697]\n",
            "Neutral\n"
          ]
        }
      ]
    },
    {
      "cell_type": "markdown",
      "source": [
        "2. Apply GridSearchCV on the source code provided in the class\n"
      ],
      "metadata": {
        "id": "zXKqc0Q3I7eY"
      }
    },
    {
      "cell_type": "code",
      "source": [
        "from keras.wrappers.scikit_learn import KerasClassifier #importing Keras classifier\n",
        "from sklearn.model_selection import GridSearchCV #importing Grid search CV\n",
        "\n",
        "model = KerasClassifier(build_fn=createmodel,verbose=2) #initiating model to test performance by applying multiple hyper parameters\n",
        "batch_size= [10, 20, 40] #hyper parameter batch_size\n",
        "epochs = [1, 2] #hyper parameter no. of epochs\n",
        "param_grid= {'batch_size':batch_size, 'epochs':epochs} #creating dictionary for batch size, no. of epochs\n",
        "grid  = GridSearchCV(estimator=model, param_grid=param_grid) #Applying dictionary with hyper parameters\n",
        "grid_result= grid.fit(X_train,Y_train) #Fitting the model\n",
        "# summarize results\n",
        "print(\"Best: %f using %s\" % (grid_result.best_score_, grid_result.best_params_)) #best score, best hyper parameters\n",
        "\n",
        "\n",
        ""
      ],
      "metadata": {
        "colab": {
          "base_uri": "https://localhost:8080/"
        },
        "id": "9nbRGZycI-5w",
        "outputId": "1d09d4d0-6ef1-4087-f600-d75897276d91"
      },
      "execution_count": 34,
      "outputs": [
        {
          "metadata": {
            "tags": null
          },
          "name": "stderr",
          "output_type": "stream",
          "text": [
            "<ipython-input-34-192e834c671d>:4: DeprecationWarning: KerasClassifier is deprecated, use Sci-Keras (https://github.com/adriangb/scikeras) instead. See https://www.adriangb.com/scikeras/stable/migration.html for help migrating.\n",
            "  model = KerasClassifier(build_fn=createmodel,verbose=2) #initiating model to test performance by applying multiple hyper parameters\n"
          ]
        },
        {
          "output_type": "stream",
          "name": "stdout",
          "text": [
            "744/744 - 97s - loss: 0.8234 - accuracy: 0.6457 - 97s/epoch - 131ms/step\n",
            "186/186 - 3s - loss: 0.7812 - accuracy: 0.6676 - 3s/epoch - 14ms/step\n",
            "744/744 - 92s - loss: 0.8238 - accuracy: 0.6445 - 92s/epoch - 123ms/step\n",
            "186/186 - 3s - loss: 0.7747 - accuracy: 0.6756 - 3s/epoch - 14ms/step\n",
            "744/744 - 90s - loss: 0.8197 - accuracy: 0.6490 - 90s/epoch - 121ms/step\n",
            "186/186 - 3s - loss: 0.7460 - accuracy: 0.6810 - 3s/epoch - 15ms/step\n",
            "744/744 - 96s - loss: 0.8281 - accuracy: 0.6413 - 96s/epoch - 130ms/step\n",
            "186/186 - 3s - loss: 0.7688 - accuracy: 0.6690 - 3s/epoch - 14ms/step\n",
            "744/744 - 93s - loss: 0.8237 - accuracy: 0.6438 - 93s/epoch - 125ms/step\n",
            "186/186 - 3s - loss: 0.7825 - accuracy: 0.6642 - 3s/epoch - 14ms/step\n",
            "Epoch 1/2\n",
            "744/744 - 89s - loss: 0.8280 - accuracy: 0.6473 - 89s/epoch - 119ms/step\n",
            "Epoch 2/2\n",
            "744/744 - 86s - loss: 0.6807 - accuracy: 0.7125 - 86s/epoch - 116ms/step\n",
            "186/186 - 3s - loss: 0.7363 - accuracy: 0.6740 - 3s/epoch - 13ms/step\n",
            "Epoch 1/2\n",
            "744/744 - 96s - loss: 0.8247 - accuracy: 0.6414 - 96s/epoch - 129ms/step\n",
            "Epoch 2/2\n",
            "744/744 - 90s - loss: 0.6832 - accuracy: 0.7084 - 90s/epoch - 121ms/step\n",
            "186/186 - 3s - loss: 0.7348 - accuracy: 0.6810 - 3s/epoch - 14ms/step\n",
            "Epoch 1/2\n",
            "744/744 - 95s - loss: 0.8217 - accuracy: 0.6458 - 95s/epoch - 127ms/step\n",
            "Epoch 2/2\n",
            "744/744 - 90s - loss: 0.6725 - accuracy: 0.7175 - 90s/epoch - 120ms/step\n",
            "186/186 - 3s - loss: 0.7412 - accuracy: 0.6848 - 3s/epoch - 19ms/step\n",
            "Epoch 1/2\n",
            "744/744 - 90s - loss: 0.8257 - accuracy: 0.6456 - 90s/epoch - 121ms/step\n",
            "Epoch 2/2\n",
            "744/744 - 85s - loss: 0.6765 - accuracy: 0.7120 - 85s/epoch - 115ms/step\n",
            "186/186 - 2s - loss: 0.7354 - accuracy: 0.6878 - 2s/epoch - 13ms/step\n",
            "Epoch 1/2\n",
            "744/744 - 91s - loss: 0.8242 - accuracy: 0.6412 - 91s/epoch - 122ms/step\n",
            "Epoch 2/2\n",
            "744/744 - 85s - loss: 0.6737 - accuracy: 0.7123 - 85s/epoch - 114ms/step\n",
            "186/186 - 3s - loss: 0.8230 - accuracy: 0.6631 - 3s/epoch - 16ms/step\n",
            "372/372 - 55s - loss: 0.8346 - accuracy: 0.6425 - 55s/epoch - 148ms/step\n",
            "93/93 - 2s - loss: 0.7421 - accuracy: 0.6810 - 2s/epoch - 20ms/step\n",
            "372/372 - 52s - loss: 0.8282 - accuracy: 0.6460 - 52s/epoch - 140ms/step\n",
            "93/93 - 2s - loss: 0.7918 - accuracy: 0.6627 - 2s/epoch - 19ms/step\n",
            "372/372 - 50s - loss: 0.8286 - accuracy: 0.6419 - 50s/epoch - 134ms/step\n",
            "93/93 - 2s - loss: 0.7614 - accuracy: 0.6778 - 2s/epoch - 18ms/step\n",
            "372/372 - 57s - loss: 0.8291 - accuracy: 0.6416 - 57s/epoch - 152ms/step\n",
            "93/93 - 2s - loss: 0.7450 - accuracy: 0.6787 - 2s/epoch - 21ms/step\n",
            "372/372 - 53s - loss: 0.8242 - accuracy: 0.6448 - 53s/epoch - 143ms/step\n",
            "93/93 - 2s - loss: 0.7639 - accuracy: 0.6674 - 2s/epoch - 20ms/step\n",
            "Epoch 1/2\n",
            "372/372 - 50s - loss: 0.8329 - accuracy: 0.6442 - 50s/epoch - 135ms/step\n",
            "Epoch 2/2\n",
            "372/372 - 50s - loss: 0.6822 - accuracy: 0.7107 - 50s/epoch - 133ms/step\n",
            "93/93 - 2s - loss: 0.7345 - accuracy: 0.6869 - 2s/epoch - 18ms/step\n",
            "Epoch 1/2\n",
            "372/372 - 54s - loss: 0.8293 - accuracy: 0.6430 - 54s/epoch - 146ms/step\n",
            "Epoch 2/2\n",
            "372/372 - 50s - loss: 0.6879 - accuracy: 0.7077 - 50s/epoch - 136ms/step\n",
            "93/93 - 3s - loss: 0.7343 - accuracy: 0.6880 - 3s/epoch - 35ms/step\n",
            "Epoch 1/2\n",
            "372/372 - 54s - loss: 0.8269 - accuracy: 0.6429 - 54s/epoch - 144ms/step\n",
            "Epoch 2/2\n",
            "372/372 - 49s - loss: 0.6805 - accuracy: 0.7119 - 49s/epoch - 132ms/step\n",
            "93/93 - 2s - loss: 0.7509 - accuracy: 0.6918 - 2s/epoch - 20ms/step\n",
            "Epoch 1/2\n",
            "372/372 - 53s - loss: 0.8377 - accuracy: 0.6362 - 53s/epoch - 143ms/step\n",
            "Epoch 2/2\n",
            "372/372 - 47s - loss: 0.6793 - accuracy: 0.7120 - 47s/epoch - 126ms/step\n",
            "93/93 - 2s - loss: 0.7457 - accuracy: 0.6825 - 2s/epoch - 18ms/step\n",
            "Epoch 1/2\n",
            "372/372 - 50s - loss: 0.8235 - accuracy: 0.6432 - 50s/epoch - 135ms/step\n",
            "Epoch 2/2\n",
            "372/372 - 49s - loss: 0.6740 - accuracy: 0.7124 - 49s/epoch - 133ms/step\n",
            "93/93 - 2s - loss: 0.7847 - accuracy: 0.6755 - 2s/epoch - 18ms/step\n",
            "186/186 - 33s - loss: 0.8464 - accuracy: 0.6404 - 33s/epoch - 177ms/step\n",
            "47/47 - 1s - loss: 0.7637 - accuracy: 0.6751 - 1s/epoch - 30ms/step\n",
            "186/186 - 33s - loss: 0.8383 - accuracy: 0.6375 - 33s/epoch - 180ms/step\n",
            "47/47 - 1s - loss: 0.7773 - accuracy: 0.6670 - 1s/epoch - 27ms/step\n",
            "186/186 - 36s - loss: 0.8479 - accuracy: 0.6328 - 36s/epoch - 191ms/step\n",
            "47/47 - 1s - loss: 0.7644 - accuracy: 0.6805 - 1s/epoch - 27ms/step\n",
            "186/186 - 34s - loss: 0.8406 - accuracy: 0.6363 - 34s/epoch - 182ms/step\n",
            "47/47 - 1s - loss: 0.7546 - accuracy: 0.6706 - 1s/epoch - 28ms/step\n",
            "186/186 - 34s - loss: 0.8401 - accuracy: 0.6378 - 34s/epoch - 180ms/step\n",
            "47/47 - 1s - loss: 0.7732 - accuracy: 0.6760 - 1s/epoch - 27ms/step\n",
            "Epoch 1/2\n",
            "186/186 - 32s - loss: 0.8507 - accuracy: 0.6360 - 32s/epoch - 173ms/step\n",
            "Epoch 2/2\n",
            "186/186 - 31s - loss: 0.6892 - accuracy: 0.7027 - 31s/epoch - 165ms/step\n",
            "47/47 - 2s - loss: 0.7338 - accuracy: 0.6762 - 2s/epoch - 45ms/step\n",
            "Epoch 1/2\n",
            "186/186 - 35s - loss: 0.8370 - accuracy: 0.6371 - 35s/epoch - 189ms/step\n",
            "Epoch 2/2\n",
            "186/186 - 30s - loss: 0.6931 - accuracy: 0.7046 - 30s/epoch - 164ms/step\n",
            "47/47 - 1s - loss: 0.7436 - accuracy: 0.6799 - 1s/epoch - 28ms/step\n",
            "Epoch 1/2\n",
            "186/186 - 34s - loss: 0.8402 - accuracy: 0.6349 - 34s/epoch - 181ms/step\n",
            "Epoch 2/2\n",
            "186/186 - 31s - loss: 0.6872 - accuracy: 0.7073 - 31s/epoch - 165ms/step\n",
            "47/47 - 1s - loss: 0.7432 - accuracy: 0.6853 - 1s/epoch - 27ms/step\n",
            "Epoch 1/2\n",
            "186/186 - 32s - loss: 0.8474 - accuracy: 0.6397 - 32s/epoch - 172ms/step\n",
            "Epoch 2/2\n",
            "186/186 - 32s - loss: 0.6817 - accuracy: 0.7092 - 32s/epoch - 174ms/step\n",
            "47/47 - 2s - loss: 0.7512 - accuracy: 0.6760 - 2s/epoch - 41ms/step\n",
            "Epoch 1/2\n",
            "186/186 - 34s - loss: 0.8436 - accuracy: 0.6352 - 34s/epoch - 180ms/step\n",
            "Epoch 2/2\n",
            "186/186 - 29s - loss: 0.6768 - accuracy: 0.7095 - 29s/epoch - 158ms/step\n",
            "47/47 - 1s - loss: 0.7779 - accuracy: 0.6674 - 1s/epoch - 27ms/step\n",
            "Epoch 1/2\n",
            "465/465 - 67s - loss: 0.8218 - accuracy: 0.6489 - 67s/epoch - 143ms/step\n",
            "Epoch 2/2\n",
            "465/465 - 63s - loss: 0.6770 - accuracy: 0.7154 - 63s/epoch - 135ms/step\n",
            "Best: 0.684923 using {'batch_size': 20, 'epochs': 2}\n"
          ]
        }
      ]
    },
    {
      "cell_type": "code",
      "source": [
        "pip install keras==2.12.0"
      ],
      "metadata": {
        "colab": {
          "base_uri": "https://localhost:8080/"
        },
        "id": "-mFONeKkJdJA",
        "outputId": "49b81e3b-0b0d-40cd-d452-ead367ecb73c"
      },
      "execution_count": 1,
      "outputs": [
        {
          "output_type": "stream",
          "name": "stdout",
          "text": [
            "Requirement already satisfied: keras==2.12.0 in /usr/local/lib/python3.10/dist-packages (2.12.0)\n"
          ]
        }
      ]
    }
  ]
}